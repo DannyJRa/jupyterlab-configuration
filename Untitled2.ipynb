{
 "cells": [
  {
   "cell_type": "code",
   "execution_count": 1,
   "metadata": {},
   "outputs": [
    {
     "ename": "ModuleNotFoundError",
     "evalue": "No module named 'wordcloud'",
     "output_type": "error",
     "traceback": [
      "\u001b[0;31m---------------------------------------------------------------------------\u001b[0m",
      "\u001b[0;31mModuleNotFoundError\u001b[0m                       Traceback (most recent call last)",
      "\u001b[0;32m<ipython-input-1-22b74f36f2c7>\u001b[0m in \u001b[0;36m<module>\u001b[0;34m\u001b[0m\n\u001b[1;32m      2\u001b[0m \u001b[0;34m\u001b[0m\u001b[0m\n\u001b[1;32m      3\u001b[0m \u001b[0;32mfrom\u001b[0m \u001b[0mos\u001b[0m \u001b[0;32mimport\u001b[0m \u001b[0mpath\u001b[0m\u001b[0;34m\u001b[0m\u001b[0m\n\u001b[0;32m----> 4\u001b[0;31m \u001b[0;32mfrom\u001b[0m \u001b[0mwordcloud\u001b[0m \u001b[0;32mimport\u001b[0m \u001b[0mWordCloud\u001b[0m\u001b[0;34m\u001b[0m\u001b[0m\n\u001b[0m",
      "\u001b[0;31mModuleNotFoundError\u001b[0m: No module named 'wordcloud'"
     ]
    }
   ],
   "source": [
    "import os\n",
    "\n",
    "from os import path\n",
    "from wordcloud import WordCloud"
   ]
  },
  {
   "cell_type": "code",
   "execution_count": 2,
   "metadata": {},
   "outputs": [
    {
     "name": "stdout",
     "output_type": "stream",
     "text": [
      "/miniconda/bin/python\n"
     ]
    }
   ],
   "source": [
    "!which python"
   ]
  },
  {
   "cell_type": "code",
   "execution_count": 5,
   "metadata": {},
   "outputs": [
    {
     "name": "stdout",
     "output_type": "stream",
     "text": [
      "Collecting package metadata (current_repodata.json): done\n",
      "Solving environment: done\n",
      "\n",
      "# All requested packages already installed.\n",
      "\n"
     ]
    }
   ],
   "source": [
    "!conda install -c https://conda.anaconda.org/conda-forge wordcloud -y"
   ]
  },
  {
   "cell_type": "code",
   "execution_count": 3,
   "metadata": {},
   "outputs": [
    {
     "name": "stdout",
     "output_type": "stream",
     "text": [
      "\n",
      "Please wait a moment while I gather a list of all available modules...\n",
      "\n"
     ]
    },
    {
     "name": "stderr",
     "output_type": "stream",
     "text": [
      "/usr/local/lib/python3.7/site-packages/IPython/kernel/__init__.py:13: ShimWarning: The `IPython.kernel` package has been deprecated since IPython 4.0.You should import from ipykernel or jupyter_client instead.\n",
      "  \"You should import from ipykernel or jupyter_client instead.\", ShimWarning)\n"
     ]
    },
    {
     "name": "stdout",
     "output_type": "stream",
     "text": [
      "IPython             atexit              ipykernel_launcher  runpy\n",
      "__future__          attr                ipython_genutils    sched\n",
      "_abc                audioop             ipywidgets          secrets\n",
      "_ast                autoreload          itertools           select\n",
      "_asyncio            backcall            jedi                selectors\n",
      "_bisect             base64              jinja2              send2trash\n",
      "_blake2             bash_kernel         json                setuptools\n",
      "_bootlocale         bdb                 json5               shelve\n",
      "_bz2                binascii            jsonschema          shlex\n",
      "_codecs             binhex              jupyter             shutil\n",
      "_codecs_cn          bisect              jupyter_client      signal\n",
      "_codecs_hk          bleach              jupyter_console     site\n",
      "_codecs_iso2022     builtins            jupyter_core        six\n",
      "_codecs_jp          bz2                 jupyterlab          smtpd\n",
      "_codecs_kr          cProfile            jupyterlab_server   smtplib\n",
      "_codecs_tw          calendar            keyword             sndhdr\n",
      "_collections        certifi             lib2to3             socket\n",
      "_collections_abc    cgi                 linecache           socketserver\n",
      "_compat_pickle      cgitb               locale              spwd\n",
      "_compression        chardet             logging             sqlite3\n",
      "_contextvars        chunk               lzma                sre_compile\n",
      "_crypt              cmath               macpath             sre_constants\n",
      "_csv                cmd                 mailbox             sre_parse\n",
      "_ctypes             code                mailcap             ssl\n",
      "_ctypes_test        codecs              markupsafe          stat\n",
      "_curses             codeop              marshal             statistics\n",
      "_curses_panel       collections         math                storemagic\n",
      "_datetime           colorsys            mimetypes           string\n",
      "_decimal            compileall          mistune             stringprep\n",
      "_dummy_thread       concurrent          mmap                struct\n",
      "_elementtree        configparser        modulefinder        subprocess\n",
      "_functools          contextlib          more_itertools      sunau\n",
      "_gdbm               contextvars         multiprocessing     symbol\n",
      "_hashlib            copy                nbconvert           sympyprinting\n",
      "_heapq              copyreg             nbformat            symtable\n",
      "_imp                crypt               netrc               sys\n",
      "_io                 csv                 nis                 sysconfig\n",
      "_json               ctypes              nntplib             syslog\n",
      "_locale             curses              notebook            tabnanny\n",
      "_lsprof             cythonmagic         ntpath              tarfile\n",
      "_markupbase         dataclasses         nturl2path          telnetlib\n",
      "_md5                datetime            numbers             tempfile\n",
      "_multibytecodec     dateutil            opcode              terminado\n",
      "_multiprocessing    dbm                 operator            termios\n",
      "_opcode             decimal             optparse            test\n",
      "_operator           decorator           os                  testpath\n",
      "_osx_support        defusedxml          ossaudiodev         tests\n",
      "_pickle             difflib             pandocfilters       textwrap\n",
      "_posixsubprocess    dis                 parser              this\n",
      "_py_abc             distutils           parso               threading\n",
      "_pydecimal          doctest             pathlib             time\n",
      "_pyio               dummy_threading     pdb                 timeit\n",
      "_pyrsistent_version easy_install        pexpect             tkinter\n",
      "_queue              email               pickle              token\n",
      "_random             encodings           pickleshare         tokenize\n",
      "_sha1               ensurepip           pickletools         tornado\n",
      "_sha256             entrypoints         pip                 trace\n",
      "_sha3               enum                pipes               traceback\n",
      "_sha512             errno               pkg_resources       tracemalloc\n",
      "_signal             faulthandler        pkgutil             traitlets\n",
      "_sitebuiltins       fcntl               platform            tty\n",
      "_socket             filecmp             plistlib            turtle\n",
      "_sqlite3            fileinput           poplib              turtledemo\n",
      "_sre                fnmatch             posix               types\n",
      "_ssl                formatter           posixpath           typing\n",
      "_stat               fractions           pprint              unicodedata\n",
      "_string             ftplib              profile             unittest\n",
      "_strptime           functools           prometheus_client   urllib\n",
      "_struct             gc                  prompt_toolkit      urllib3\n",
      "_symtable           genericpath         pstats              uu\n",
      "_sysconfigdata_m_linux_x86_64-linux-gnu getopt              pty                 uuid\n",
      "_testbuffer         getpass             ptyprocess          venv\n",
      "_testcapi           gettext             pvectorc            warnings\n",
      "_testimportmultiple glob                pwd                 wave\n",
      "_testmultiphase     grp                 py_compile          wcwidth\n",
      "_thread             gzip                pyclbr              weakref\n",
      "_threading_local    hashlib             pydoc               webbrowser\n",
      "_tkinter            heapq               pydoc_data          webencodings\n",
      "_tracemalloc        hmac                pyexpat             wheel\n",
      "_warnings           html                pygments            widgetsnbextension\n",
      "_weakref            http                pyrsistent          wsgiref\n",
      "_weakrefset         idlelib             qtconsole           xdrlib\n",
      "_xxtestfuzz         idna                queue               xml\n",
      "abc                 imaplib             quopri              xmlrpc\n",
      "aifc                imghdr              random              xxlimited\n",
      "antigravity         imp                 re                  xxsubtype\n",
      "argparse            importlib           readline            zipapp\n",
      "array               importlib_metadata  reprlib             zipfile\n",
      "ast                 inspect             requests            zipimport\n",
      "asynchat            io                  resource            zipp\n",
      "asyncio             ipaddress           rlcompleter         zlib\n",
      "asyncore            ipykernel           rmagic              zmq\n",
      "\n",
      "Enter any module name to get more help.  Or, type \"modules spam\" to search\n",
      "for modules whose name or summary contain the string \"spam\".\n",
      "\n"
     ]
    },
    {
     "name": "stderr",
     "output_type": "stream",
     "text": [
      "/usr/local/lib/python3.7/pkgutil.py:107: VisibleDeprecationWarning: zmq.eventloop.minitornado is deprecated in pyzmq 14.0 and will be removed.\n",
      "    Install tornado itself to use zmq with the tornado IOLoop.\n",
      "    \n",
      "  yield from walk_packages(path, info.name+'.', onerror)\n"
     ]
    }
   ],
   "source": [
    "help('modules')"
   ]
  },
  {
   "cell_type": "code",
   "execution_count": 4,
   "metadata": {},
   "outputs": [
    {
     "name": "stdout",
     "output_type": "stream",
     "text": [
      "usage: wordcloud_cli [-h] [--text file] [--regexp regexp] [--stopwords file]\n",
      "                     [--imagefile file] [--fontfile path] [--mask file]\n",
      "                     [--colormask file] [--contour_width width]\n",
      "                     [--contour_color color] [--relative_scaling rs]\n",
      "                     [--margin width] [--width width] [--height height]\n",
      "                     [--color color] [--background color] [--no_collocations]\n",
      "                     [--version]\n",
      "wordcloud_cli: error: argument --text: can't open 'mytext.txt': [Errno 2] No such file or directory: 'mytext.txt'\n"
     ]
    }
   ],
   "source": [
    "!wordcloud_cli --text mytext.txt --imagefile wordcloud.png"
   ]
  },
  {
   "cell_type": "code",
   "execution_count": 5,
   "metadata": {},
   "outputs": [
    {
     "ename": "ModuleNotFoundError",
     "evalue": "No module named 'pandas'",
     "output_type": "error",
     "traceback": [
      "\u001b[0;31m---------------------------------------------------------------------------\u001b[0m",
      "\u001b[0;31mModuleNotFoundError\u001b[0m                       Traceback (most recent call last)",
      "\u001b[0;32m<ipython-input-5-38d4b0363d82>\u001b[0m in \u001b[0;36m<module>\u001b[0;34m\u001b[0m\n\u001b[0;32m----> 1\u001b[0;31m \u001b[0;32mimport\u001b[0m \u001b[0mpandas\u001b[0m\u001b[0;34m\u001b[0m\u001b[0m\n\u001b[0m",
      "\u001b[0;31mModuleNotFoundError\u001b[0m: No module named 'pandas'"
     ]
    }
   ],
   "source": [
    "import pandas"
   ]
  },
  {
   "cell_type": "code",
   "execution_count": null,
   "metadata": {},
   "outputs": [],
   "source": []
  }
 ],
 "metadata": {
  "kernelspec": {
   "display_name": "Python 3",
   "language": "python",
   "name": "python3"
  },
  "language_info": {
   "codemirror_mode": {
    "name": "ipython",
    "version": 3
   },
   "file_extension": ".py",
   "mimetype": "text/x-python",
   "name": "python",
   "nbconvert_exporter": "python",
   "pygments_lexer": "ipython3",
   "version": "3.7.0"
  }
 },
 "nbformat": 4,
 "nbformat_minor": 4
}
